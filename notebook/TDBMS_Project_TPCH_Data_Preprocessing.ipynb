{
  "cells": [
    {
      "cell_type": "code",
      "execution_count": 1,
      "metadata": {
        "colab": {
          "base_uri": "https://localhost:8080/"
        },
        "id": "onntCxgbkUvV",
        "outputId": "fb4449ae-dde8-4a35-97d8-0c7869ecf861"
      },
      "outputs": [
        {
          "output_type": "stream",
          "name": "stdout",
          "text": [
            "Collecting pyspark\n",
            "  Downloading pyspark-3.5.0.tar.gz (316.9 MB)\n",
            "\u001b[2K     \u001b[90m━━━━━━━━━━━━━━━━━━━━━━━━━━━━━━━━━━━━━━━━\u001b[0m \u001b[32m316.9/316.9 MB\u001b[0m \u001b[31m4.4 MB/s\u001b[0m eta \u001b[36m0:00:00\u001b[0m\n",
            "\u001b[?25h  Preparing metadata (setup.py) ... \u001b[?25l\u001b[?25hdone\n",
            "Requirement already satisfied: py4j==0.10.9.7 in /usr/local/lib/python3.10/dist-packages (from pyspark) (0.10.9.7)\n",
            "Building wheels for collected packages: pyspark\n",
            "  Building wheel for pyspark (setup.py) ... \u001b[?25l\u001b[?25hdone\n",
            "  Created wheel for pyspark: filename=pyspark-3.5.0-py2.py3-none-any.whl size=317425345 sha256=f46608e0d79b5ed4225e1ed653a69c2458ce67d0cc4727a945d437bc2fdd0cf8\n",
            "  Stored in directory: /root/.cache/pip/wheels/41/4e/10/c2cf2467f71c678cfc8a6b9ac9241e5e44a01940da8fbb17fc\n",
            "Successfully built pyspark\n",
            "Installing collected packages: pyspark\n",
            "Successfully installed pyspark-3.5.0\n",
            "java-1.11.0-openjdk-amd64  java-11-openjdk-amd64  java-1.8.0-openjdk-amd64  java-8-openjdk-amd64\n",
            "Requirement already satisfied: pyarrow in /usr/local/lib/python3.10/dist-packages (9.0.0)\n",
            "Collecting pyarrow\n",
            "  Downloading pyarrow-14.0.1-cp310-cp310-manylinux_2_28_x86_64.whl (38.0 MB)\n",
            "\u001b[2K     \u001b[90m━━━━━━━━━━━━━━━━━━━━━━━━━━━━━━━━━━━━━━━━\u001b[0m \u001b[32m38.0/38.0 MB\u001b[0m \u001b[31m25.7 MB/s\u001b[0m eta \u001b[36m0:00:00\u001b[0m\n",
            "\u001b[?25hRequirement already satisfied: numpy>=1.16.6 in /usr/local/lib/python3.10/dist-packages (from pyarrow) (1.23.5)\n",
            "Installing collected packages: pyarrow\n",
            "  Attempting uninstall: pyarrow\n",
            "    Found existing installation: pyarrow 9.0.0\n",
            "    Uninstalling pyarrow-9.0.0:\n",
            "      Successfully uninstalled pyarrow-9.0.0\n",
            "\u001b[31mERROR: pip's dependency resolver does not currently take into account all the packages that are installed. This behaviour is the source of the following dependency conflicts.\n",
            "ibis-framework 6.2.0 requires pyarrow<13,>=2, but you have pyarrow 14.0.1 which is incompatible.\n",
            "pandas-gbq 0.17.9 requires pyarrow<10.0dev,>=3.0.0, but you have pyarrow 14.0.1 which is incompatible.\u001b[0m\u001b[31m\n",
            "\u001b[0mSuccessfully installed pyarrow-14.0.1\n",
            "bin   data\tjars\t    LICENSE   NOTICE  R\t\t RELEASE  yarn\n",
            "conf  examples\tkubernetes  licenses  python  README.md  sbin\n"
          ]
        }
      ],
      "source": [
        "# installing dependencies\n",
        "!apt-get install openjdk-8-jdk-headless -qq > /dev/null\n",
        "!wget -q https://dlcdn.apache.org/spark/spark-3.5.0/spark-3.5.0-bin-hadoop3.tgz\n",
        "!tar xf spark-3.5.0-bin-hadoop3.tgz\n",
        "\n",
        "!pip install -q findspark\n",
        "!pip install pyspark\n",
        "!ls /usr/lib/jvm/\n",
        "!pip install -U pyarrow\n",
        "import os\n",
        "os.environ[\"JAVA_HOME\"] = \"/usr/lib/jvm/java-8-openjdk-amd64\"\n",
        "os.environ[\"SPARK_HOME\"] = \"/content/spark-3.5.0-bin-hadoop3\"\n",
        "\n",
        "!ls /content/spark-3.5.0-bin-hadoop3\n"
      ]
    },
    {
      "cell_type": "code",
      "execution_count": 2,
      "metadata": {
        "colab": {
          "base_uri": "https://localhost:8080/"
        },
        "id": "FN88fdI_evBO",
        "outputId": "573a09fc-8a96-4e7e-917f-2262de99a741"
      },
      "outputs": [
        {
          "output_type": "stream",
          "name": "stdout",
          "text": [
            "Cloning into 'tpch-spark'...\n",
            "remote: Enumerating objects: 557, done.\u001b[K\n",
            "remote: Counting objects: 100% (56/56), done.\u001b[K\n",
            "remote: Compressing objects: 100% (43/43), done.\u001b[K\n",
            "remote: Total 557 (delta 19), reused 26 (delta 7), pack-reused 501\u001b[K\n",
            "Receiving objects: 100% (557/557), 1.82 MiB | 15.50 MiB/s, done.\n",
            "Resolving deltas: 100% (250/250), done.\n"
          ]
        }
      ],
      "source": [
        "# cloning tpch repository\n",
        "!git clone https://github.com/ssavvides/tpch-spark\n"
      ]
    },
    {
      "cell_type": "code",
      "execution_count": 3,
      "metadata": {
        "colab": {
          "base_uri": "https://localhost:8080/"
        },
        "id": "UDjLFiQde1wQ",
        "outputId": "ffbfc5a8-260d-4571-fa03-d62b6f9bd393"
      },
      "outputs": [
        {
          "output_type": "stream",
          "name": "stdout",
          "text": [
            "gcc -g -DDBNAME=\\\"dss\\\" -DLINUX -DORACLE -DTPCH -DRNG_TEST -D_FILE_OFFSET_BITS=64   -c -o build.o build.c\n",
            "In file included from \u001b[01m\u001b[Kbuild.c:45\u001b[m\u001b[K:\n",
            "\u001b[01m\u001b[Kbuild.c:\u001b[m\u001b[K In function ‘\u001b[01m\u001b[Kmk_time\u001b[m\u001b[K’:\n",
            "\u001b[01m\u001b[Kdss.h:494:16:\u001b[m\u001b[K \u001b[01;35m\u001b[Kwarning: \u001b[m\u001b[Kformat ‘\u001b[01m\u001b[K%d\u001b[m\u001b[K’ expects argument of type ‘\u001b[01m\u001b[Kint\u001b[m\u001b[K’, but argument 3 has type ‘\u001b[01m\u001b[Klong int\u001b[m\u001b[K’ [\u001b[01;35m\u001b[K\u001b]8;;https://gcc.gnu.org/onlinedocs/gcc/Warning-Options.html#index-Wformat=\u0007-Wformat=\u001b]8;;\u0007\u001b[m\u001b[K]\n",
            "  494 |   sprintf(tgt, \u001b[01;35m\u001b[K\"19%02d-%02d-%02d\"\u001b[m\u001b[K, yr, mn, dy)\n",
            "      |                \u001b[01;35m\u001b[K^~~~~~~~~~~~~~~~~~\u001b[m\u001b[K\n",
            "\u001b[01m\u001b[Kbuild.c:422:9:\u001b[m\u001b[K \u001b[01;36m\u001b[Knote: \u001b[m\u001b[Kin expansion of macro ‘\u001b[01m\u001b[KPR_DATE\u001b[m\u001b[K’\n",
            "  422 |         \u001b[01;36m\u001b[KPR_DATE\u001b[m\u001b[K(t->alpha, y, m,\n",
            "      |         \u001b[01;36m\u001b[K^~~~~~~\u001b[m\u001b[K\n",
            "\u001b[01m\u001b[Kdss.h:494:22:\u001b[m\u001b[K \u001b[01;36m\u001b[Knote: \u001b[m\u001b[Kformat string is defined here\n",
            "  494 |   sprintf(tgt, \"19\u001b[01;36m\u001b[K%02d\u001b[m\u001b[K-%02d-%02d\", yr, mn, dy)\n",
            "      |                   \u001b[01;36m\u001b[K~~~^\u001b[m\u001b[K\n",
            "      |                      \u001b[01;36m\u001b[K|\u001b[m\u001b[K\n",
            "      |                      \u001b[01;36m\u001b[Kint\u001b[m\u001b[K\n",
            "      |                   \u001b[32m\u001b[K%02ld\u001b[m\u001b[K\n",
            "\u001b[01m\u001b[Kdss.h:494:16:\u001b[m\u001b[K \u001b[01;35m\u001b[Kwarning: \u001b[m\u001b[Kformat ‘\u001b[01m\u001b[K%d\u001b[m\u001b[K’ expects argument of type ‘\u001b[01m\u001b[Kint\u001b[m\u001b[K’, but argument 4 has type ‘\u001b[01m\u001b[Klong int\u001b[m\u001b[K’ [\u001b[01;35m\u001b[K\u001b]8;;https://gcc.gnu.org/onlinedocs/gcc/Warning-Options.html#index-Wformat=\u0007-Wformat=\u001b]8;;\u0007\u001b[m\u001b[K]\n",
            "  494 |   sprintf(tgt, \u001b[01;35m\u001b[K\"19%02d-%02d-%02d\"\u001b[m\u001b[K, yr, mn, dy)\n",
            "      |                \u001b[01;35m\u001b[K^~~~~~~~~~~~~~~~~~\u001b[m\u001b[K\n",
            "\u001b[01m\u001b[Kbuild.c:422:9:\u001b[m\u001b[K \u001b[01;36m\u001b[Knote: \u001b[m\u001b[Kin expansion of macro ‘\u001b[01m\u001b[KPR_DATE\u001b[m\u001b[K’\n",
            "  422 |         \u001b[01;36m\u001b[KPR_DATE\u001b[m\u001b[K(t->alpha, y, m,\n",
            "      |         \u001b[01;36m\u001b[K^~~~~~~\u001b[m\u001b[K\n",
            "\u001b[01m\u001b[Kdss.h:494:27:\u001b[m\u001b[K \u001b[01;36m\u001b[Knote: \u001b[m\u001b[Kformat string is defined here\n",
            "  494 |   sprintf(tgt, \"19%02d-\u001b[01;36m\u001b[K%02d\u001b[m\u001b[K-%02d\", yr, mn, dy)\n",
            "      |                        \u001b[01;36m\u001b[K~~~^\u001b[m\u001b[K\n",
            "      |                           \u001b[01;36m\u001b[K|\u001b[m\u001b[K\n",
            "      |                           \u001b[01;36m\u001b[Kint\u001b[m\u001b[K\n",
            "      |                        \u001b[32m\u001b[K%02ld\u001b[m\u001b[K\n",
            "\u001b[01m\u001b[Kdss.h:494:16:\u001b[m\u001b[K \u001b[01;35m\u001b[Kwarning: \u001b[m\u001b[Kformat ‘\u001b[01m\u001b[K%d\u001b[m\u001b[K’ expects argument of type ‘\u001b[01m\u001b[Kint\u001b[m\u001b[K’, but argument 5 has type ‘\u001b[01m\u001b[Klong int\u001b[m\u001b[K’ [\u001b[01;35m\u001b[K\u001b]8;;https://gcc.gnu.org/onlinedocs/gcc/Warning-Options.html#index-Wformat=\u0007-Wformat=\u001b]8;;\u0007\u001b[m\u001b[K]\n",
            "  494 |   sprintf(tgt, \u001b[01;35m\u001b[K\"19%02d-%02d-%02d\"\u001b[m\u001b[K, yr, mn, dy)\n",
            "      |                \u001b[01;35m\u001b[K^~~~~~~~~~~~~~~~~~\u001b[m\u001b[K\n",
            "\u001b[01m\u001b[Kbuild.c:422:9:\u001b[m\u001b[K \u001b[01;36m\u001b[Knote: \u001b[m\u001b[Kin expansion of macro ‘\u001b[01m\u001b[KPR_DATE\u001b[m\u001b[K’\n",
            "  422 |         \u001b[01;36m\u001b[KPR_DATE\u001b[m\u001b[K(t->alpha, y, m,\n",
            "      |         \u001b[01;36m\u001b[K^~~~~~~\u001b[m\u001b[K\n",
            "\u001b[01m\u001b[Kdss.h:494:32:\u001b[m\u001b[K \u001b[01;36m\u001b[Knote: \u001b[m\u001b[Kformat string is defined here\n",
            "  494 |   sprintf(tgt, \"19%02d-%02d-\u001b[01;36m\u001b[K%02d\u001b[m\u001b[K\", yr, mn, dy)\n",
            "      |                             \u001b[01;36m\u001b[K~~~^\u001b[m\u001b[K\n",
            "      |                                \u001b[01;36m\u001b[K|\u001b[m\u001b[K\n",
            "      |                                \u001b[01;36m\u001b[Kint\u001b[m\u001b[K\n",
            "      |                             \u001b[32m\u001b[K%02ld\u001b[m\u001b[K\n",
            "gcc -g -DDBNAME=\\\"dss\\\" -DLINUX -DORACLE -DTPCH -DRNG_TEST -D_FILE_OFFSET_BITS=64   -c -o driver.o driver.c\n",
            "\u001b[01m\u001b[Kdriver.c:\u001b[m\u001b[K In function ‘\u001b[01m\u001b[Kgen_tbl\u001b[m\u001b[K’:\n",
            "\u001b[01m\u001b[Kdriver.c:368:62:\u001b[m\u001b[K \u001b[01;35m\u001b[Kwarning: \u001b[m\u001b[Kformat ‘\u001b[01m\u001b[K%ld\u001b[m\u001b[K’ expects argument of type ‘\u001b[01m\u001b[Klong int\u001b[m\u001b[K’, but argument 3 has type ‘\u001b[01m\u001b[Klong long int\u001b[m\u001b[K’ [\u001b[01;35m\u001b[K\u001b]8;;https://gcc.gnu.org/onlinedocs/gcc/Warning-Options.html#index-Wformat=\u0007-Wformat=\u001b]8;;\u0007\u001b[m\u001b[K]\n",
            "  368 |                         printf(\"\\nSeeds for %s at rowcount \u001b[01;35m\u001b[K%ld\u001b[m\u001b[K\\n\", tdefs[tnum].comment, \u001b[32m\u001b[Ki\u001b[m\u001b[K);\n",
            "      |                                                            \u001b[01;35m\u001b[K~~^\u001b[m\u001b[K                          \u001b[32m\u001b[K~\u001b[m\u001b[K\n",
            "      |                                                              \u001b[01;35m\u001b[K|\u001b[m\u001b[K                          \u001b[32m\u001b[K|\u001b[m\u001b[K\n",
            "      |                                                              \u001b[01;35m\u001b[Klong int\u001b[m\u001b[K                   \u001b[32m\u001b[Klong long int\u001b[m\u001b[K\n",
            "      |                                                            \u001b[32m\u001b[K%lld\u001b[m\u001b[K\n",
            "\u001b[01m\u001b[Kdriver.c:\u001b[m\u001b[K In function ‘\u001b[01m\u001b[Kpartial\u001b[m\u001b[K’:\n",
            "\u001b[01m\u001b[Kdriver.c:428:67:\u001b[m\u001b[K \u001b[01;35m\u001b[Kwarning: \u001b[m\u001b[Kformat ‘\u001b[01m\u001b[K%d\u001b[m\u001b[K’ expects argument of type ‘\u001b[01m\u001b[Kint\u001b[m\u001b[K’, but argument 4 has type ‘\u001b[01m\u001b[Klong int\u001b[m\u001b[K’ [\u001b[01;35m\u001b[K\u001b]8;;https://gcc.gnu.org/onlinedocs/gcc/Warning-Options.html#index-Wformat=\u0007-Wformat=\u001b]8;;\u0007\u001b[m\u001b[K]\n",
            "  428 |                 fprintf (stderr, \"\\tStarting to load stage %d of \u001b[01;35m\u001b[K%d\u001b[m\u001b[K for %s...\",\n",
            "      |                                                                  \u001b[01;35m\u001b[K~^\u001b[m\u001b[K\n",
            "      |                                                                   \u001b[01;35m\u001b[K|\u001b[m\u001b[K\n",
            "      |                                                                   \u001b[01;35m\u001b[Kint\u001b[m\u001b[K\n",
            "      |                                                                  \u001b[32m\u001b[K%ld\u001b[m\u001b[K\n",
            "  429 |                         s, \u001b[32m\u001b[Kchildren\u001b[m\u001b[K, tdefs[tbl].comment);\n",
            "      |                            \u001b[32m\u001b[K~~~~~~~~\u001b[m\u001b[K                                \n",
            "      |                            \u001b[32m\u001b[K|\u001b[m\u001b[K\n",
            "      |                            \u001b[32m\u001b[Klong int\u001b[m\u001b[K\n",
            "\u001b[01m\u001b[Kdriver.c:\u001b[m\u001b[K In function ‘\u001b[01m\u001b[Kmain\u001b[m\u001b[K’:\n",
            "\u001b[01m\u001b[Kdriver.c:754:59:\u001b[m\u001b[K \u001b[01;35m\u001b[Kwarning: \u001b[m\u001b[Kformat ‘\u001b[01m\u001b[K%d\u001b[m\u001b[K’ expects argument of type ‘\u001b[01m\u001b[Kint\u001b[m\u001b[K’, but argument 3 has type ‘\u001b[01m\u001b[Klong int\u001b[m\u001b[K’ [\u001b[01;35m\u001b[K\u001b]8;;https://gcc.gnu.org/onlinedocs/gcc/Warning-Options.html#index-Wformat=\u0007-Wformat=\u001b]8;;\u0007\u001b[m\u001b[K]\n",
            "  754 |                                 \"Generating update pair #\u001b[01;35m\u001b[K%d\u001b[m\u001b[K for %s\",\n",
            "      |                                                          \u001b[01;35m\u001b[K~^\u001b[m\u001b[K\n",
            "      |                                                           \u001b[01;35m\u001b[K|\u001b[m\u001b[K\n",
            "      |                                                           \u001b[01;35m\u001b[Kint\u001b[m\u001b[K\n",
            "      |                                                          \u001b[32m\u001b[K%ld\u001b[m\u001b[K\n",
            "  755 |                                 \u001b[32m\u001b[Kupd_num + 1\u001b[m\u001b[K, tdefs[ORDER_LINE].comment);\n",
            "      |                                 \u001b[32m\u001b[K~~~~~~~~~~~\u001b[m\u001b[K                \n",
            "      |                                         \u001b[32m\u001b[K|\u001b[m\u001b[K\n",
            "      |                                         \u001b[32m\u001b[Klong int\u001b[m\u001b[K\n",
            "gcc -g -DDBNAME=\\\"dss\\\" -DLINUX -DORACLE -DTPCH -DRNG_TEST -D_FILE_OFFSET_BITS=64   -c -o bm_utils.o bm_utils.c\n",
            "\u001b[01m\u001b[Kbm_utils.c:\u001b[m\u001b[K In function ‘\u001b[01m\u001b[Ktbl_open\u001b[m\u001b[K’:\n",
            "\u001b[01m\u001b[Kbm_utils.c:408:67:\u001b[m\u001b[K \u001b[01;35m\u001b[Kwarning: \u001b[m\u001b[K‘\u001b[01m\u001b[K%s\u001b[m\u001b[K’ directive writing up to 255 bytes into a region of size 231 [\u001b[01;35m\u001b[K\u001b]8;;https://gcc.gnu.org/onlinedocs/gcc/Warning-Options.html#index-Wformat-overflow=\u0007-Wformat-overflow=\u001b]8;;\u0007\u001b[m\u001b[K]\n",
            "  408 |                         sprintf(prompt, \"Do you want to overwrite \u001b[01;35m\u001b[K%s\u001b[m\u001b[K ?\", \u001b[32m\u001b[Kfullpath\u001b[m\u001b[K);\n",
            "      |                                                                   \u001b[01;35m\u001b[K^~\u001b[m\u001b[K     \u001b[32m\u001b[K~~~~~~~~\u001b[m\u001b[K\n",
            "\u001b[01m\u001b[Kbm_utils.c:408:25:\u001b[m\u001b[K \u001b[01;36m\u001b[Knote: \u001b[m\u001b[K‘\u001b[01m\u001b[Ksprintf\u001b[m\u001b[K’ output between 28 and 283 bytes into a destination of size 256\n",
            "  408 |                         \u001b[01;36m\u001b[Ksprintf(prompt, \"Do you want to overwrite %s ?\", fullpath)\u001b[m\u001b[K;\n",
            "      |                         \u001b[01;36m\u001b[K^~~~~~~~~~~~~~~~~~~~~~~~~~~~~~~~~~~~~~~~~~~~~~~~~~~~~~~~~~\u001b[m\u001b[K\n",
            "gcc -g -DDBNAME=\\\"dss\\\" -DLINUX -DORACLE -DTPCH -DRNG_TEST -D_FILE_OFFSET_BITS=64   -c -o rnd.o rnd.c\n",
            "\u001b[01m\u001b[Krnd.c:\u001b[m\u001b[K In function ‘\u001b[01m\u001b[Krow_stop\u001b[m\u001b[K’:\n",
            "\u001b[01m\u001b[Krnd.c:131:83:\u001b[m\u001b[K \u001b[01;35m\u001b[Kwarning: \u001b[m\u001b[Kformat ‘\u001b[01m\u001b[K%d\u001b[m\u001b[K’ expects argument of type ‘\u001b[01m\u001b[Kint\u001b[m\u001b[K’, but argument 4 has type ‘\u001b[01m\u001b[Klong long int\u001b[m\u001b[K’ [\u001b[01;35m\u001b[K\u001b]8;;https://gcc.gnu.org/onlinedocs/gcc/Warning-Options.html#index-Wformat=\u0007-Wformat=\u001b]8;;\u0007\u001b[m\u001b[K]\n",
            "  131 |                                 fprintf(stderr, \"\\nSEED CHANGE: seed[%d].usage = \u001b[01;35m\u001b[K%d\u001b[m\u001b[K\\n\",\n",
            "      |                                                                                  \u001b[01;35m\u001b[K~^\u001b[m\u001b[K\n",
            "      |                                                                                   \u001b[01;35m\u001b[K|\u001b[m\u001b[K\n",
            "      |                                                                                   \u001b[01;35m\u001b[Kint\u001b[m\u001b[K\n",
            "      |                                                                                  \u001b[32m\u001b[K%lld\u001b[m\u001b[K\n",
            "  132 |                                         i, \u001b[32m\u001b[KSeed[i].usage\u001b[m\u001b[K);\n",
            "      |                                            \u001b[32m\u001b[K~~~~~~~~~~~~~\u001b[m\u001b[K                           \n",
            "      |                                                   \u001b[32m\u001b[K|\u001b[m\u001b[K\n",
            "      |                                                   \u001b[32m\u001b[Klong long int\u001b[m\u001b[K\n",
            "\u001b[01m\u001b[Krnd.c:\u001b[m\u001b[K In function ‘\u001b[01m\u001b[Kdump_seeds\u001b[m\u001b[K’:\n",
            "\u001b[01m\u001b[Krnd.c:154:38:\u001b[m\u001b[K \u001b[01;35m\u001b[Kwarning: \u001b[m\u001b[Kformat ‘\u001b[01m\u001b[K%ld\u001b[m\u001b[K’ expects argument of type ‘\u001b[01m\u001b[Klong int\u001b[m\u001b[K’, but argument 3 has type ‘\u001b[01m\u001b[Klong long int\u001b[m\u001b[K’ [\u001b[01;35m\u001b[K\u001b]8;;https://gcc.gnu.org/onlinedocs/gcc/Warning-Options.html#index-Wformat=\u0007-Wformat=\u001b]8;;\u0007\u001b[m\u001b[K]\n",
            "  154 |                         printf(\"%d(\u001b[01;35m\u001b[K%ld\u001b[m\u001b[K):\\t%ld\\n\", i, \u001b[32m\u001b[KSeed[i].nCalls\u001b[m\u001b[K, Seed[i].value);\n",
            "      |                                    \u001b[01;35m\u001b[K~~^\u001b[m\u001b[K               \u001b[32m\u001b[K~~~~~~~~~~~~~~\u001b[m\u001b[K\n",
            "      |                                      \u001b[01;35m\u001b[K|\u001b[m\u001b[K                      \u001b[32m\u001b[K|\u001b[m\u001b[K\n",
            "      |                                      \u001b[01;35m\u001b[Klong int\u001b[m\u001b[K               \u001b[32m\u001b[Klong long int\u001b[m\u001b[K\n",
            "      |                                    \u001b[32m\u001b[K%lld\u001b[m\u001b[K\n",
            "\u001b[01m\u001b[Krnd.c:154:45:\u001b[m\u001b[K \u001b[01;35m\u001b[Kwarning: \u001b[m\u001b[Kformat ‘\u001b[01m\u001b[K%ld\u001b[m\u001b[K’ expects argument of type ‘\u001b[01m\u001b[Klong int\u001b[m\u001b[K’, but argument 4 has type ‘\u001b[01m\u001b[Klong long int\u001b[m\u001b[K’ [\u001b[01;35m\u001b[K\u001b]8;;https://gcc.gnu.org/onlinedocs/gcc/Warning-Options.html#index-Wformat=\u0007-Wformat=\u001b]8;;\u0007\u001b[m\u001b[K]\n",
            "  154 |                         printf(\"%d(%ld):\\t\u001b[01;35m\u001b[K%ld\u001b[m\u001b[K\\n\", i, Seed[i].nCalls, \u001b[32m\u001b[KSeed[i].value\u001b[m\u001b[K);\n",
            "      |                                           \u001b[01;35m\u001b[K~~^\u001b[m\u001b[K                        \u001b[32m\u001b[K~~~~~~~~~~~~~\u001b[m\u001b[K\n",
            "      |                                             \u001b[01;35m\u001b[K|\u001b[m\u001b[K                               \u001b[32m\u001b[K|\u001b[m\u001b[K\n",
            "      |                                             \u001b[01;35m\u001b[Klong int\u001b[m\u001b[K                        \u001b[32m\u001b[Klong long int\u001b[m\u001b[K\n",
            "      |                                           \u001b[32m\u001b[K%lld\u001b[m\u001b[K\n",
            "gcc -g -DDBNAME=\\\"dss\\\" -DLINUX -DORACLE -DTPCH -DRNG_TEST -D_FILE_OFFSET_BITS=64   -c -o print.o print.c\n",
            "\u001b[01m\u001b[Kprint.c:\u001b[m\u001b[K In function ‘\u001b[01m\u001b[Kdbg_print\u001b[m\u001b[K’:\n",
            "\u001b[01m\u001b[Kprint.c:143:25:\u001b[m\u001b[K \u001b[01;35m\u001b[Kwarning: \u001b[m\u001b[Kformat ‘\u001b[01m\u001b[K%ld\u001b[m\u001b[K’ expects argument of type ‘\u001b[01m\u001b[Klong int\u001b[m\u001b[K’, but argument 3 has type ‘\u001b[01m\u001b[Kint\u001b[m\u001b[K’ [\u001b[01;35m\u001b[K\u001b]8;;https://gcc.gnu.org/onlinedocs/gcc/Warning-Options.html#index-Wformat=\u0007-Wformat=\u001b]8;;\u0007\u001b[m\u001b[K]\n",
            "  143 |      fprintf(target, \"\u001b[01;35m\u001b[K%ld\u001b[m\u001b[K.%02ld\", \u001b[32m\u001b[Kdollars\u001b[m\u001b[K, cents);\n",
            "      |                       \u001b[01;35m\u001b[K~~^\u001b[m\u001b[K         \u001b[32m\u001b[K~~~~~~~\u001b[m\u001b[K\n",
            "      |                         \u001b[01;35m\u001b[K|\u001b[m\u001b[K         \u001b[32m\u001b[K|\u001b[m\u001b[K\n",
            "      |                         \u001b[01;35m\u001b[Klong int\u001b[m\u001b[K  \u001b[32m\u001b[Kint\u001b[m\u001b[K\n",
            "      |                       \u001b[32m\u001b[K%d\u001b[m\u001b[K\n",
            "\u001b[01m\u001b[Kprint.c:143:31:\u001b[m\u001b[K \u001b[01;35m\u001b[Kwarning: \u001b[m\u001b[Kformat ‘\u001b[01m\u001b[K%ld\u001b[m\u001b[K’ expects argument of type ‘\u001b[01m\u001b[Klong int\u001b[m\u001b[K’, but argument 4 has type ‘\u001b[01m\u001b[Kint\u001b[m\u001b[K’ [\u001b[01;35m\u001b[K\u001b]8;;https://gcc.gnu.org/onlinedocs/gcc/Warning-Options.html#index-Wformat=\u0007-Wformat=\u001b]8;;\u0007\u001b[m\u001b[K]\n",
            "  143 |      fprintf(target, \"%ld.\u001b[01;35m\u001b[K%02ld\u001b[m\u001b[K\", dollars, \u001b[32m\u001b[Kcents\u001b[m\u001b[K);\n",
            "      |                           \u001b[01;35m\u001b[K~~~~^\u001b[m\u001b[K            \u001b[32m\u001b[K~~~~~\u001b[m\u001b[K\n",
            "      |                               \u001b[01;35m\u001b[K|\u001b[m\u001b[K            \u001b[32m\u001b[K|\u001b[m\u001b[K\n",
            "      |                               \u001b[01;35m\u001b[Klong int\u001b[m\u001b[K     \u001b[32m\u001b[Kint\u001b[m\u001b[K\n",
            "      |                           \u001b[32m\u001b[K%02d\u001b[m\u001b[K\n",
            "gcc -g -DDBNAME=\\\"dss\\\" -DLINUX -DORACLE -DTPCH -DRNG_TEST -D_FILE_OFFSET_BITS=64   -c -o load_stub.o load_stub.c\n",
            "gcc -g -DDBNAME=\\\"dss\\\" -DLINUX -DORACLE -DTPCH -DRNG_TEST -D_FILE_OFFSET_BITS=64   -c -o bcd2.o bcd2.c\n",
            "gcc -g -DDBNAME=\\\"dss\\\" -DLINUX -DORACLE -DTPCH -DRNG_TEST -D_FILE_OFFSET_BITS=64   -c -o speed_seed.o speed_seed.c\n",
            "gcc -g -DDBNAME=\\\"dss\\\" -DLINUX -DORACLE -DTPCH -DRNG_TEST -D_FILE_OFFSET_BITS=64   -c -o text.o text.c\n",
            "gcc -g -DDBNAME=\\\"dss\\\" -DLINUX -DORACLE -DTPCH -DRNG_TEST -D_FILE_OFFSET_BITS=64   -c -o permute.o permute.c\n",
            "gcc -g -DDBNAME=\\\"dss\\\" -DLINUX -DORACLE -DTPCH -DRNG_TEST -D_FILE_OFFSET_BITS=64   -c -o rng64.o rng64.c\n",
            "gcc -g -DDBNAME=\\\"dss\\\" -DLINUX -DORACLE -DTPCH -DRNG_TEST -D_FILE_OFFSET_BITS=64 -O -o dbgen build.o driver.o bm_utils.o rnd.o print.o load_stub.o bcd2.o speed_seed.o text.o permute.o rng64.o -lm\n",
            "gcc -g -DDBNAME=\\\"dss\\\" -DLINUX -DORACLE -DTPCH -DRNG_TEST -D_FILE_OFFSET_BITS=64   -c -o qgen.o qgen.c\n",
            "In file included from \u001b[01m\u001b[Kqgen.c:41\u001b[m\u001b[K:\n",
            "\u001b[01m\u001b[Kqgen.c:\u001b[m\u001b[K In function ‘\u001b[01m\u001b[Kqsub\u001b[m\u001b[K’:\n",
            "\u001b[01m\u001b[Ktpcd.h:85:19:\u001b[m\u001b[K \u001b[01;35m\u001b[Kwarning: \u001b[m\u001b[Kzero-length gnu_printf format string [\u001b[01;35m\u001b[K\u001b]8;;https://gcc.gnu.org/onlinedocs/gcc/Warning-Options.html#index-Wformat-zero-length\u0007-Wformat-zero-length\u001b]8;;\u0007\u001b[m\u001b[K]\n",
            "   85 | #define SET_DBASE \u001b[01;35m\u001b[K\"\"\u001b[m\u001b[K\n",
            "      |                   \u001b[01;35m\u001b[K^~\u001b[m\u001b[K\n",
            "\u001b[01m\u001b[Kqgen.c:197:38:\u001b[m\u001b[K \u001b[01;36m\u001b[Knote: \u001b[m\u001b[Kin expansion of macro ‘\u001b[01m\u001b[KSET_DBASE\u001b[m\u001b[K’\n",
            "  197 |                         fprintf(ofp, \u001b[01;36m\u001b[KSET_DBASE\u001b[m\u001b[K, db_name);\n",
            "      |                                      \u001b[01;36m\u001b[K^~~~~~~~~\u001b[m\u001b[K\n",
            "\u001b[01m\u001b[Kqgen.c:\u001b[m\u001b[K In function ‘\u001b[01m\u001b[Kmain\u001b[m\u001b[K’:\n",
            "\u001b[01m\u001b[Kqgen.c:456:34:\u001b[m\u001b[K \u001b[01;35m\u001b[Kwarning: \u001b[m\u001b[Kformat ‘\u001b[01m\u001b[K%d\u001b[m\u001b[K’ expects argument of type ‘\u001b[01m\u001b[Kint\u001b[m\u001b[K’, but argument 3 has type ‘\u001b[01m\u001b[Klong int\u001b[m\u001b[K’ [\u001b[01;35m\u001b[K\u001b]8;;https://gcc.gnu.org/onlinedocs/gcc/Warning-Options.html#index-Wformat=\u0007-Wformat=\u001b]8;;\u0007\u001b[m\u001b[K]\n",
            "  456 |                 sprintf(qname, \"\u001b[01;35m\u001b[K%d\u001b[m\u001b[K\", SEQUENCE(snum, atoi(av[i])));\n",
            "      |                                 \u001b[01;35m\u001b[K~^\u001b[m\u001b[K\n",
            "      |                                  \u001b[01;35m\u001b[K|\u001b[m\u001b[K\n",
            "      |                                  \u001b[01;35m\u001b[Kint\u001b[m\u001b[K\n",
            "      |                                 \u001b[32m\u001b[K%ld\u001b[m\u001b[K\n",
            "\u001b[01m\u001b[Kqgen.c:463:34:\u001b[m\u001b[K \u001b[01;35m\u001b[Kwarning: \u001b[m\u001b[Kformat ‘\u001b[01m\u001b[K%d\u001b[m\u001b[K’ expects argument of type ‘\u001b[01m\u001b[Kint\u001b[m\u001b[K’, but argument 3 has type ‘\u001b[01m\u001b[Klong int\u001b[m\u001b[K’ [\u001b[01;35m\u001b[K\u001b]8;;https://gcc.gnu.org/onlinedocs/gcc/Warning-Options.html#index-Wformat=\u0007-Wformat=\u001b]8;;\u0007\u001b[m\u001b[K]\n",
            "  463 |                 sprintf(qname, \"\u001b[01;35m\u001b[K%d\u001b[m\u001b[K\", SEQUENCE(snum, i));\n",
            "      |                                 \u001b[01;35m\u001b[K~^\u001b[m\u001b[K\n",
            "      |                                  \u001b[01;35m\u001b[K|\u001b[m\u001b[K\n",
            "      |                                  \u001b[01;35m\u001b[Kint\u001b[m\u001b[K\n",
            "      |                                 \u001b[32m\u001b[K%ld\u001b[m\u001b[K\n",
            "gcc -g -DDBNAME=\\\"dss\\\" -DLINUX -DORACLE -DTPCH -DRNG_TEST -D_FILE_OFFSET_BITS=64   -c -o varsub.o varsub.c\n",
            "gcc -g -DDBNAME=\\\"dss\\\" -DLINUX -DORACLE -DTPCH -DRNG_TEST -D_FILE_OFFSET_BITS=64 -O -o qgen build.o bm_utils.o qgen.o rnd.o varsub.o text.o bcd2.o permute.o speed_seed.o rng64.o -lm\n"
          ]
        }
      ],
      "source": [
        "!cd /content/tpch-spark/dbgen && make\n"
      ]
    },
    {
      "cell_type": "code",
      "execution_count": 4,
      "metadata": {
        "colab": {
          "base_uri": "https://localhost:8080/"
        },
        "id": "mw-PW-1re17M",
        "outputId": "dd338351-84c1-4169-8275-5292f19e8c38"
      },
      "outputs": [
        {
          "output_type": "stream",
          "name": "stdout",
          "text": [
            "/content/tpch-spark/dbgen\n",
            "TPC-H Population Generator (Version 2.17.0)\n",
            "Copyright Transaction Processing Performance Council 1994 - 2010\n"
          ]
        }
      ],
      "source": [
        "%cd /content/tpch-spark/dbgen\n",
        "!./dbgen\n"
      ]
    },
    {
      "cell_type": "code",
      "execution_count": 5,
      "metadata": {
        "colab": {
          "base_uri": "https://localhost:8080/"
        },
        "id": "7t8KqbaSe2EV",
        "outputId": "81377568-f86a-47f2-8c35-f36e5b2ebade"
      },
      "outputs": [
        {
          "output_type": "execute_result",
          "data": {
            "text/plain": [
              "['nation.tbl',\n",
              " 'orders.tbl',\n",
              " 'supplier.tbl',\n",
              " 'partsupp.tbl',\n",
              " 'region.tbl',\n",
              " 'lineitem.tbl',\n",
              " 'part.tbl',\n",
              " 'customer.tbl']"
            ]
          },
          "metadata": {},
          "execution_count": 5
        }
      ],
      "source": [
        "# Specify the directory path\n",
        "directory_path = \"/content/tpch-spark/dbgen\"\n",
        "\n",
        "# List files with the extension .tbl in the directory\n",
        "tbl_files = [file for file in os.listdir(directory_path) if file.endswith(\".tbl\")]\n",
        "\n",
        "# Display the list of .tbl files\n",
        "tbl_files\n"
      ]
    },
    {
      "cell_type": "code",
      "execution_count": 6,
      "metadata": {
        "colab": {
          "base_uri": "https://localhost:8080/"
        },
        "id": "as3zA8DzoaU5",
        "outputId": "e9a51489-cfa0-47cc-c4fd-3fcf36f969ca"
      },
      "outputs": [
        {
          "output_type": "stream",
          "name": "stdout",
          "text": [
            "\n",
            "Table: nation\n",
            "+---+---------+---+--------------------+----+\n",
            "|_c0|      _c1|_c2|                 _c3| _c4|\n",
            "+---+---------+---+--------------------+----+\n",
            "|  0|  ALGERIA|  0| haggle. carefull...|NULL|\n",
            "|  1|ARGENTINA|  1|al foxes promise ...|NULL|\n",
            "|  2|   BRAZIL|  1|y alongside of th...|NULL|\n",
            "|  3|   CANADA|  1|eas hang ironic, ...|NULL|\n",
            "|  4|    EGYPT|  4|y above the caref...|NULL|\n",
            "+---+---------+---+--------------------+----+\n",
            "only showing top 5 rows\n",
            "\n",
            "\n",
            "Table: orders\n",
            "+---+------+---+---------+----------+--------+---------------+---+--------------------+----+\n",
            "|_c0|   _c1|_c2|      _c3|       _c4|     _c5|            _c6|_c7|                 _c8| _c9|\n",
            "+---+------+---+---------+----------+--------+---------------+---+--------------------+----+\n",
            "|  1| 36901|  O|173665.47|1996-01-02|   5-LOW|Clerk#000000951|  0|nstructions sleep...|NULL|\n",
            "|  2| 78002|  O| 46929.18|1996-12-01|1-URGENT|Clerk#000000880|  0| foxes. pending a...|NULL|\n",
            "|  3|123314|  F|193846.25|1993-10-14|   5-LOW|Clerk#000000955|  0|sly final account...|NULL|\n",
            "|  4|136777|  O| 32151.78|1995-10-11|   5-LOW|Clerk#000000124|  0|sits. slyly regul...|NULL|\n",
            "|  5| 44485|  F| 144659.2|1994-07-30|   5-LOW|Clerk#000000925|  0|quickly. bold dep...|NULL|\n",
            "+---+------+---+---------+----------+--------+---------------+---+--------------------+----+\n",
            "only showing top 5 rows\n",
            "\n",
            "\n",
            "Table: supplier\n",
            "+---+------------------+--------------------+---+---------------+-------+--------------------+----+\n",
            "|_c0|               _c1|                 _c2|_c3|            _c4|    _c5|                 _c6| _c7|\n",
            "+---+------------------+--------------------+---+---------------+-------+--------------------+----+\n",
            "|  1|Supplier#000000001| N kD4on9OM Ipw3,...| 17|27-918-335-1736|5755.94|each slyly above ...|NULL|\n",
            "|  2|Supplier#000000002|89eJ5ksX3ImxJQBvx...|  5|15-679-861-2259|4032.68| slyly bold instr...|NULL|\n",
            "|  3|Supplier#000000003|q1,G3Pj6OjIuUYfUo...|  1|11-383-516-1199| 4192.4|blithely silent r...|NULL|\n",
            "|  4|Supplier#000000004|Bk7ah4CK8SYQTepEm...| 15|25-843-787-7479|4641.08|riously even requ...|NULL|\n",
            "|  5|Supplier#000000005|   Gcdm2rJRzl5qlTVzc| 11|21-151-690-3663|-283.84|. slyly regular p...|NULL|\n",
            "+---+------------------+--------------------+---+---------------+-------+--------------------+----+\n",
            "only showing top 5 rows\n",
            "\n",
            "\n",
            "Table: partsupp\n",
            "+---+----+----+------+--------------------+----+\n",
            "|_c0| _c1| _c2|   _c3|                 _c4| _c5|\n",
            "+---+----+----+------+--------------------+----+\n",
            "|  1|   2|3325|771.64|, even theodolite...|NULL|\n",
            "|  1|2502|8076|993.49|ven ideas. quickl...|NULL|\n",
            "|  1|5002|3956|337.09|after the fluffil...|NULL|\n",
            "|  1|7502|4069|357.84|al, regular depen...|NULL|\n",
            "|  2|   3|8895|378.49|nic accounts. fin...|NULL|\n",
            "+---+----+----+------+--------------------+----+\n",
            "only showing top 5 rows\n",
            "\n",
            "\n",
            "Table: region\n",
            "+---+-----------+--------------------+----+\n",
            "|_c0|        _c1|                 _c2| _c3|\n",
            "+---+-----------+--------------------+----+\n",
            "|  0|     AFRICA|lar deposits. bli...|NULL|\n",
            "|  1|    AMERICA|hs use ironic, ev...|NULL|\n",
            "|  2|       ASIA|ges. thinly even ...|NULL|\n",
            "|  3|     EUROPE|ly final courts c...|NULL|\n",
            "|  4|MIDDLE EAST|uickly special ac...|NULL|\n",
            "+---+-----------+--------------------+----+\n",
            "\n",
            "\n",
            "Table: lineitem\n",
            "+---+------+----+---+---+--------+----+----+---+---+----------+----------+----------+-----------------+-------+--------------------+----+\n",
            "|_c0|   _c1| _c2|_c3|_c4|     _c5| _c6| _c7|_c8|_c9|      _c10|      _c11|      _c12|             _c13|   _c14|                _c15|_c16|\n",
            "+---+------+----+---+---+--------+----+----+---+---+----------+----------+----------+-----------------+-------+--------------------+----+\n",
            "|  1|155190|7706|  1| 17|21168.23|0.04|0.02|  N|  O|1996-03-13|1996-02-12|1996-03-22|DELIVER IN PERSON|  TRUCK|egular courts abo...|NULL|\n",
            "|  1| 67310|7311|  2| 36|45983.16|0.09|0.06|  N|  O|1996-04-12|1996-02-28|1996-04-20| TAKE BACK RETURN|   MAIL|ly final dependen...|NULL|\n",
            "|  1| 63700|3701|  3|  8| 13309.6| 0.1|0.02|  N|  O|1996-01-29|1996-03-05|1996-01-31| TAKE BACK RETURN|REG AIR|riously. regular,...|NULL|\n",
            "|  1|  2132|4633|  4| 28|28955.64|0.09|0.06|  N|  O|1996-04-21|1996-03-30|1996-05-16|             NONE|    AIR|lites. fluffily e...|NULL|\n",
            "|  1| 24027|1534|  5| 24|22824.48| 0.1|0.04|  N|  O|1996-03-30|1996-03-14|1996-04-01|             NONE|    FOB| pending foxes. s...|NULL|\n",
            "+---+------+----+---+---+--------+----+----+---+---+----------+----------+----------+-----------------+-------+--------------------+----+\n",
            "only showing top 5 rows\n",
            "\n",
            "\n",
            "Table: part\n",
            "+---+--------------------+--------------+--------+--------------------+---+---------+-----+-------------------+----+\n",
            "|_c0|                 _c1|           _c2|     _c3|                 _c4|_c5|      _c6|  _c7|                _c8| _c9|\n",
            "+---+--------------------+--------------+--------+--------------------+---+---------+-----+-------------------+----+\n",
            "|  1|goldenrod lavende...|Manufacturer#1|Brand#13|PROMO BURNISHED C...|  7|JUMBO PKG|901.0|    ly. slyly ironi|NULL|\n",
            "|  2|blush thistle blu...|Manufacturer#1|Brand#13| LARGE BRUSHED BRASS|  1|  LG CASE|902.0|   lar accounts amo|NULL|\n",
            "|  3|spring green yell...|Manufacturer#4|Brand#42|STANDARD POLISHED...| 21|WRAP CASE|903.0|egular deposits hag|NULL|\n",
            "|  4|cornflower chocol...|Manufacturer#3|Brand#34|  SMALL PLATED BRASS| 14| MED DRUM|904.0|      p furiously r|NULL|\n",
            "|  5|forest brown cora...|Manufacturer#3|Brand#32|STANDARD POLISHED...| 15|   SM PKG|905.0|    wake carefully |NULL|\n",
            "+---+--------------------+--------------+--------+--------------------+---+---------+-----+-------------------+----+\n",
            "only showing top 5 rows\n",
            "\n",
            "\n",
            "Table: customer\n",
            "+---+------------------+--------------------+---+---------------+-------+----------+--------------------+----+\n",
            "|_c0|               _c1|                 _c2|_c3|            _c4|    _c5|       _c6|                 _c7| _c8|\n",
            "+---+------------------+--------------------+---+---------------+-------+----------+--------------------+----+\n",
            "|  1|Customer#000000001|   IVhzIApeRb ot,c,E| 15|25-989-741-2988| 711.56|  BUILDING|to the even, regu...|NULL|\n",
            "|  2|Customer#000000002|XSTf4,NCwDVaWNe6t...| 13|23-768-687-3665| 121.65|AUTOMOBILE|l accounts. blith...|NULL|\n",
            "|  3|Customer#000000003|        MG9kdTD2WBHm|  1|11-719-748-3364|7498.12|AUTOMOBILE| deposits eat sly...|NULL|\n",
            "|  4|Customer#000000004|         XxVSJsLAGtn|  4|14-128-190-5944|2866.83| MACHINERY| requests. final,...|NULL|\n",
            "|  5|Customer#000000005|KvpyuHCplrB84WgAi...|  3|13-750-942-6364| 794.47| HOUSEHOLD|n accounts will h...|NULL|\n",
            "+---+------------------+--------------------+---+---------------+-------+----------+--------------------+----+\n",
            "only showing top 5 rows\n",
            "\n"
          ]
        }
      ],
      "source": [
        "\n",
        "# Import necessary modules\n",
        "from pyspark.sql import SparkSession\n",
        "\n",
        "# Create a Spark session\n",
        "spark = SparkSession.builder.master(\"local[*]\").appName(\"TPC-H Data Loading\").getOrCreate()\n",
        "\n",
        "# Specify the directory path containing .tbl files\n",
        "tbl_directory = \"/content/tpch-spark/dbgen\"\n",
        "\n",
        "# List .tbl files in the directory\n",
        "tbl_files = [file for file in os.listdir(tbl_directory) if file.endswith(\".tbl\")]\n",
        "\n",
        "# Read each .tbl file into a PySpark DataFrame\n",
        "table_dataframes = {}\n",
        "for tbl_file in tbl_files:\n",
        "    table_name = tbl_file.split(\".\")[0]\n",
        "    table_path = os.path.join(tbl_directory, tbl_file)\n",
        "    table_dataframes[table_name] = spark.read.option(\"delimiter\", \"|\").csv(table_path, header=False, inferSchema=True)\n",
        "\n",
        "# Save each DataFrame as a CSV file\n",
        "output_csv_directory = \"/content/tpch-spark/csv_output\"\n",
        "for table_name, df in table_dataframes.items():\n",
        "    output_csv_path = os.path.join(output_csv_directory, f\"{table_name}.csv\")\n",
        "    df.write.csv(output_csv_path, header=True, mode=\"overwrite\")\n",
        "\n",
        "# Display the first few rows of each DataFrame\n",
        "for table_name, df in table_dataframes.items():\n",
        "    print(f\"\\nTable: {table_name}\")\n",
        "    df.show(5)\n",
        "\n",
        "# Stop the Spark session\n",
        "spark.stop()\n"
      ]
    },
    {
      "cell_type": "code",
      "execution_count": 7,
      "metadata": {
        "id": "pOwmntz-t8op"
      },
      "outputs": [],
      "source": [
        "import shutil"
      ]
    },
    {
      "cell_type": "code",
      "execution_count": 8,
      "metadata": {
        "colab": {
          "base_uri": "https://localhost:8080/",
          "height": 35
        },
        "id": "G3YwrunMx7oq",
        "outputId": "44253dfe-caff-4bc8-f179-2213f15b9a84"
      },
      "outputs": [
        {
          "output_type": "execute_result",
          "data": {
            "text/plain": [
              "'/content/tpch-spark/csv_output_archive.zip'"
            ],
            "application/vnd.google.colaboratory.intrinsic+json": {
              "type": "string"
            }
          },
          "metadata": {},
          "execution_count": 8
        }
      ],
      "source": [
        "# Zip the CSV files\n",
        "shutil.make_archive(\"/content/tpch-spark/csv_output_archive\", 'zip', \"/content/tpch-spark/csv_output/customer.csv\")\n"
      ]
    },
    {
      "cell_type": "code",
      "execution_count": 9,
      "metadata": {
        "colab": {
          "base_uri": "https://localhost:8080/",
          "height": 35
        },
        "id": "DmPSAwKZ0bI-",
        "outputId": "98d1b12d-8b80-4f37-d81b-4f377bcaddb8"
      },
      "outputs": [
        {
          "output_type": "execute_result",
          "data": {
            "text/plain": [
              "'/content/tpch-spark/csv_output_orders.zip'"
            ],
            "application/vnd.google.colaboratory.intrinsic+json": {
              "type": "string"
            }
          },
          "metadata": {},
          "execution_count": 9
        }
      ],
      "source": [
        "# Zip the CSV files\n",
        "shutil.make_archive(\"/content/tpch-spark/csv_output_orders\", 'zip', \"/content/tpch-spark/csv_output/orders.csv\")\n"
      ]
    },
    {
      "cell_type": "code",
      "execution_count": 10,
      "metadata": {
        "colab": {
          "base_uri": "https://localhost:8080/",
          "height": 35
        },
        "id": "6jUCCy8rt-wv",
        "outputId": "8808ad7a-c588-406e-e205-1e690f1f0fc0"
      },
      "outputs": [
        {
          "output_type": "execute_result",
          "data": {
            "text/plain": [
              "'/content/tpch-spark/csv_output_archive.zip'"
            ],
            "application/vnd.google.colaboratory.intrinsic+json": {
              "type": "string"
            }
          },
          "metadata": {},
          "execution_count": 10
        }
      ],
      "source": [
        "# Zip the CSV files\n",
        "shutil.make_archive(\"/content/tpch-spark/csv_output_archive\", 'zip', output_csv_directory)\n"
      ]
    },
    {
      "cell_type": "code",
      "execution_count": 11,
      "metadata": {
        "colab": {
          "base_uri": "https://localhost:8080/",
          "height": 35
        },
        "id": "FTMzZZC840hW",
        "outputId": "0c29b485-3dd5-480a-fd12-0d783719804a"
      },
      "outputs": [
        {
          "output_type": "execute_result",
          "data": {
            "text/plain": [
              "'/content/tpch-spark/csv_output_nation.zip'"
            ],
            "application/vnd.google.colaboratory.intrinsic+json": {
              "type": "string"
            }
          },
          "metadata": {},
          "execution_count": 11
        }
      ],
      "source": [
        "# Zip the CSV files\n",
        "shutil.make_archive(\"/content/tpch-spark/csv_output_nation\", 'zip', \"/content/tpch-spark/csv_output/nation.csv\")\n"
      ]
    },
    {
      "cell_type": "code",
      "source": [],
      "metadata": {
        "id": "faFvJiegiO_N"
      },
      "execution_count": null,
      "outputs": []
    }
  ],
  "metadata": {
    "colab": {
      "provenance": []
    },
    "kernelspec": {
      "display_name": "Python 3",
      "name": "python3"
    },
    "language_info": {
      "name": "python"
    }
  },
  "nbformat": 4,
  "nbformat_minor": 0
}